{
 "cells": [
  {
   "cell_type": "markdown",
   "metadata": {},
   "source": [
    "IMPORTS"
   ]
  },
  {
   "cell_type": "code",
   "execution_count": 3,
   "metadata": {},
   "outputs": [],
   "source": [
    "import pandas as pd\n",
    "import numpy as np\n",
    "import matplotlib.pyplot as plt\n",
    "import seaborn as sns\n",
    "from sklearn.linear_model import LinearRegression, Lasso, Ridge\n",
    "from sklearn.metrics import mean_squared_error, r2_score, confusion_matrix\n",
    "import math\n",
    "from sklearn.model_selection import ParameterGrid\n",
    "from pickle import dump"
   ]
  },
  {
   "cell_type": "code",
   "execution_count": 4,
   "metadata": {},
   "outputs": [],
   "source": [
    "X_train = pd.read_csv(\"/workspaces/proyectregresionlineal/data/interim/us_train_x_scal.csv\")\n",
    "y_train = pd.read_csv(\"/workspaces/proyectregresionlineal/data/interim/us_train_y.csv\")\n",
    "X_test = pd.read_csv(\"/workspaces/proyectregresionlineal/data/interim/us_test_x_scal.csv\")\n",
    "y_test = pd.read_csv(\"/workspaces/proyectregresionlineal/data/interim/us_test_y.csv\")"
   ]
  },
  {
   "cell_type": "markdown",
   "metadata": {},
   "source": [
    "MODELO REGRESION LINEAL"
   ]
  },
  {
   "cell_type": "code",
   "execution_count": 6,
   "metadata": {},
   "outputs": [],
   "source": [
    "model = LinearRegression()\n",
    "model.fit(X_train, y_train)\n",
    "\n",
    "dump(model, open(\"/workspaces/proyectregresionlineal/models/linear_model.pk\", \"wb\"))"
   ]
  },
  {
   "cell_type": "code",
   "execution_count": 7,
   "metadata": {},
   "outputs": [
    {
     "name": "stdout",
     "output_type": "stream",
     "text": [
      "Intercept (a): [4732.9502493]\n",
      "Coefficients (b): [[-1339.715747    -244.68138637  2358.88071036   -15.933255\n",
      "     17.80372429    46.44298891 -1424.62413713  -244.90740319\n",
      "   2862.53164336   555.2445296   -421.90260899  4868.28076594\n",
      "    371.54320213   411.96173245  -416.64076061  2158.2225595 ]]\n"
     ]
    }
   ],
   "source": [
    "print(f\"Intercept (a): {model.intercept_}\")\n",
    "print(f\"Coefficients (b): {model.coef_}\")"
   ]
  },
  {
   "cell_type": "code",
   "execution_count": 8,
   "metadata": {},
   "outputs": [],
   "source": [
    "y_pred = model.predict(X_train)"
   ]
  },
  {
   "cell_type": "code",
   "execution_count": 9,
   "metadata": {},
   "outputs": [
    {
     "name": "stdout",
     "output_type": "stream",
     "text": [
      "Error cuadrático medio: 785.0306130831272\n",
      "Coeficiente de determinación: 0.9979979664175385\n"
     ]
    }
   ],
   "source": [
    "print(f\"Error cuadrático medio: {math.sqrt(mean_squared_error(y_train, y_pred))}\")\n",
    "print(f\"Coeficiente de determinación: {r2_score(y_train, y_pred)}\")"
   ]
  },
  {
   "cell_type": "code",
   "execution_count": 11,
   "metadata": {},
   "outputs": [],
   "source": [
    "y_pred = model.predict(X_test)"
   ]
  },
  {
   "cell_type": "code",
   "execution_count": 12,
   "metadata": {},
   "outputs": [
    {
     "name": "stdout",
     "output_type": "stream",
     "text": [
      "Error cuadrático medio: 512.9760282818888\n",
      "Coeficiente de determinación: 0.9971747536695937\n"
     ]
    }
   ],
   "source": [
    "print(f\"Error cuadrático medio: {math.sqrt(mean_squared_error(y_test, y_pred))}\")\n",
    "print(f\"Coeficiente de determinación: {r2_score(y_test, y_pred)}\")"
   ]
  },
  {
   "cell_type": "markdown",
   "metadata": {},
   "source": [
    "Modelo Lasso"
   ]
  },
  {
   "cell_type": "code",
   "execution_count": 15,
   "metadata": {},
   "outputs": [
    {
     "name": "stderr",
     "output_type": "stream",
     "text": [
      "/home/vscode/.local/lib/python3.11/site-packages/sklearn/linear_model/_coordinate_descent.py:678: ConvergenceWarning: Objective did not converge. You might want to increase the number of iterations, check the scale of the features or consider increasing regularisation. Duality gap: 3.840e+08, tolerance: 6.766e+07\n",
      "  model = cd_fast.enet_coordinate_descent(\n"
     ]
    }
   ],
   "source": [
    "lasso_model = Lasso()\n",
    "\n",
    "lasso_model.fit(X_train, y_train)\n",
    "\n",
    "dump(lasso_model, open(\"/workspaces/proyectregresionlineal/models/lasso_model.pk\", \"wb\"))\n",
    "\n",
    "y_pred = lasso_model.predict(X_train)"
   ]
  },
  {
   "cell_type": "code",
   "execution_count": 16,
   "metadata": {},
   "outputs": [
    {
     "name": "stdout",
     "output_type": "stream",
     "text": [
      "Error cuadrático medio: 788.8193050853127\n",
      "Coeficiente de determinación: 0.997978595473367\n"
     ]
    }
   ],
   "source": [
    "print(f\"Error cuadrático medio: {math.sqrt(mean_squared_error(y_train, y_pred))}\")\n",
    "print(f\"Coeficiente de determinación: {r2_score(y_train, y_pred)}\")"
   ]
  },
  {
   "cell_type": "code",
   "execution_count": 17,
   "metadata": {},
   "outputs": [],
   "source": [
    "y_pred = lasso_model.predict(X_test)"
   ]
  },
  {
   "cell_type": "code",
   "execution_count": 18,
   "metadata": {},
   "outputs": [
    {
     "name": "stdout",
     "output_type": "stream",
     "text": [
      "Error cuadrático medio: 514.6457556104416\n",
      "Coeficiente de determinación: 0.9971563314889974\n"
     ]
    }
   ],
   "source": [
    "print(f\"Error cuadrático medio: {math.sqrt(mean_squared_error(y_test, y_pred))}\")\n",
    "print(f\"Coeficiente de determinación: {r2_score(y_test, y_pred)}\")"
   ]
  },
  {
   "cell_type": "code",
   "execution_count": 19,
   "metadata": {},
   "outputs": [],
   "source": [
    "# Busqueda del mejor Modelo Lasso\n",
    "\n",
    "hyperparams = {\"alpha\": [0.5, 1, 1.5, 1.8, 1.9],\n",
    "\"fit_intercept\": [True, False],\n",
    "\"random_state\": [24],\n",
    "\"max_iter\": [10, 100, 600, 1000, 1200, 1500, 2000, 4000]}"
   ]
  },
  {
   "cell_type": "code",
   "execution_count": 20,
   "metadata": {},
   "outputs": [
    {
     "name": "stderr",
     "output_type": "stream",
     "text": [
      "/home/vscode/.local/lib/python3.11/site-packages/sklearn/linear_model/_coordinate_descent.py:678: ConvergenceWarning: Objective did not converge. You might want to increase the number of iterations, check the scale of the features or consider increasing regularisation. Duality gap: 5.341e+09, tolerance: 6.766e+07\n",
      "  model = cd_fast.enet_coordinate_descent(\n",
      "/home/vscode/.local/lib/python3.11/site-packages/sklearn/linear_model/_coordinate_descent.py:678: ConvergenceWarning: Objective did not converge. You might want to increase the number of iterations, check the scale of the features or consider increasing regularisation. Duality gap: 1.942e+09, tolerance: 6.766e+07\n",
      "  model = cd_fast.enet_coordinate_descent(\n",
      "/home/vscode/.local/lib/python3.11/site-packages/sklearn/linear_model/_coordinate_descent.py:678: ConvergenceWarning: Objective did not converge. You might want to increase the number of iterations, check the scale of the features or consider increasing regularisation. Duality gap: 7.064e+08, tolerance: 6.766e+07\n",
      "  model = cd_fast.enet_coordinate_descent(\n",
      "/home/vscode/.local/lib/python3.11/site-packages/sklearn/linear_model/_coordinate_descent.py:678: ConvergenceWarning: Objective did not converge. You might want to increase the number of iterations, check the scale of the features or consider increasing regularisation. Duality gap: 5.420e+08, tolerance: 6.766e+07\n",
      "  model = cd_fast.enet_coordinate_descent(\n",
      "/home/vscode/.local/lib/python3.11/site-packages/sklearn/linear_model/_coordinate_descent.py:678: ConvergenceWarning: Objective did not converge. You might want to increase the number of iterations, check the scale of the features or consider increasing regularisation. Duality gap: 5.103e+08, tolerance: 6.766e+07\n",
      "  model = cd_fast.enet_coordinate_descent(\n",
      "/home/vscode/.local/lib/python3.11/site-packages/sklearn/linear_model/_coordinate_descent.py:678: ConvergenceWarning: Objective did not converge. You might want to increase the number of iterations, check the scale of the features or consider increasing regularisation. Duality gap: 4.379e+08, tolerance: 6.766e+07\n",
      "  model = cd_fast.enet_coordinate_descent(\n",
      "/home/vscode/.local/lib/python3.11/site-packages/sklearn/linear_model/_coordinate_descent.py:678: ConvergenceWarning: Objective did not converge. You might want to increase the number of iterations, check the scale of the features or consider increasing regularisation. Duality gap: 3.454e+08, tolerance: 6.766e+07\n",
      "  model = cd_fast.enet_coordinate_descent(\n",
      "/home/vscode/.local/lib/python3.11/site-packages/sklearn/linear_model/_coordinate_descent.py:678: ConvergenceWarning: Objective did not converge. You might want to increase the number of iterations, check the scale of the features or consider increasing regularisation. Duality gap: 3.012e+10, tolerance: 7.552e+07\n",
      "  model = cd_fast.enet_coordinate_descent(\n",
      "/home/vscode/.local/lib/python3.11/site-packages/sklearn/linear_model/_coordinate_descent.py:678: ConvergenceWarning: Objective did not converge. You might want to increase the number of iterations, check the scale of the features or consider increasing regularisation. Duality gap: 2.613e+10, tolerance: 7.552e+07\n",
      "  model = cd_fast.enet_coordinate_descent(\n",
      "/home/vscode/.local/lib/python3.11/site-packages/sklearn/linear_model/_coordinate_descent.py:678: ConvergenceWarning: Objective did not converge. You might want to increase the number of iterations, check the scale of the features or consider increasing regularisation. Duality gap: 2.389e+10, tolerance: 7.552e+07\n",
      "  model = cd_fast.enet_coordinate_descent(\n",
      "/home/vscode/.local/lib/python3.11/site-packages/sklearn/linear_model/_coordinate_descent.py:678: ConvergenceWarning: Objective did not converge. You might want to increase the number of iterations, check the scale of the features or consider increasing regularisation. Duality gap: 1.647e+10, tolerance: 7.552e+07\n",
      "  model = cd_fast.enet_coordinate_descent(\n",
      "/home/vscode/.local/lib/python3.11/site-packages/sklearn/linear_model/_coordinate_descent.py:678: ConvergenceWarning: Objective did not converge. You might want to increase the number of iterations, check the scale of the features or consider increasing regularisation. Duality gap: 1.119e+10, tolerance: 7.552e+07\n",
      "  model = cd_fast.enet_coordinate_descent(\n",
      "/home/vscode/.local/lib/python3.11/site-packages/sklearn/linear_model/_coordinate_descent.py:678: ConvergenceWarning: Objective did not converge. You might want to increase the number of iterations, check the scale of the features or consider increasing regularisation. Duality gap: 5.478e+09, tolerance: 7.552e+07\n",
      "  model = cd_fast.enet_coordinate_descent(\n",
      "/home/vscode/.local/lib/python3.11/site-packages/sklearn/linear_model/_coordinate_descent.py:678: ConvergenceWarning: Objective did not converge. You might want to increase the number of iterations, check the scale of the features or consider increasing regularisation. Duality gap: 3.676e+09, tolerance: 7.552e+07\n",
      "  model = cd_fast.enet_coordinate_descent(\n",
      "/home/vscode/.local/lib/python3.11/site-packages/sklearn/linear_model/_coordinate_descent.py:678: ConvergenceWarning: Objective did not converge. You might want to increase the number of iterations, check the scale of the features or consider increasing regularisation. Duality gap: 3.739e+08, tolerance: 7.552e+07\n",
      "  model = cd_fast.enet_coordinate_descent(\n",
      "/home/vscode/.local/lib/python3.11/site-packages/sklearn/linear_model/_coordinate_descent.py:678: ConvergenceWarning: Objective did not converge. You might want to increase the number of iterations, check the scale of the features or consider increasing regularisation. Duality gap: 5.348e+09, tolerance: 6.766e+07\n",
      "  model = cd_fast.enet_coordinate_descent(\n",
      "/home/vscode/.local/lib/python3.11/site-packages/sklearn/linear_model/_coordinate_descent.py:678: ConvergenceWarning: Objective did not converge. You might want to increase the number of iterations, check the scale of the features or consider increasing regularisation. Duality gap: 1.950e+09, tolerance: 6.766e+07\n",
      "  model = cd_fast.enet_coordinate_descent(\n",
      "/home/vscode/.local/lib/python3.11/site-packages/sklearn/linear_model/_coordinate_descent.py:678: ConvergenceWarning: Objective did not converge. You might want to increase the number of iterations, check the scale of the features or consider increasing regularisation. Duality gap: 6.887e+08, tolerance: 6.766e+07\n",
      "  model = cd_fast.enet_coordinate_descent(\n",
      "/home/vscode/.local/lib/python3.11/site-packages/sklearn/linear_model/_coordinate_descent.py:678: ConvergenceWarning: Objective did not converge. You might want to increase the number of iterations, check the scale of the features or consider increasing regularisation. Duality gap: 3.840e+08, tolerance: 6.766e+07\n",
      "  model = cd_fast.enet_coordinate_descent(\n",
      "/home/vscode/.local/lib/python3.11/site-packages/sklearn/linear_model/_coordinate_descent.py:678: ConvergenceWarning: Objective did not converge. You might want to increase the number of iterations, check the scale of the features or consider increasing regularisation. Duality gap: 3.071e+08, tolerance: 6.766e+07\n",
      "  model = cd_fast.enet_coordinate_descent(\n",
      "/home/vscode/.local/lib/python3.11/site-packages/sklearn/linear_model/_coordinate_descent.py:678: ConvergenceWarning: Objective did not converge. You might want to increase the number of iterations, check the scale of the features or consider increasing regularisation. Duality gap: 2.045e+08, tolerance: 6.766e+07\n",
      "  model = cd_fast.enet_coordinate_descent(\n",
      "/home/vscode/.local/lib/python3.11/site-packages/sklearn/linear_model/_coordinate_descent.py:678: ConvergenceWarning: Objective did not converge. You might want to increase the number of iterations, check the scale of the features or consider increasing regularisation. Duality gap: 1.267e+08, tolerance: 6.766e+07\n",
      "  model = cd_fast.enet_coordinate_descent(\n",
      "/home/vscode/.local/lib/python3.11/site-packages/sklearn/linear_model/_coordinate_descent.py:678: ConvergenceWarning: Objective did not converge. You might want to increase the number of iterations, check the scale of the features or consider increasing regularisation. Duality gap: 3.005e+10, tolerance: 7.552e+07\n",
      "  model = cd_fast.enet_coordinate_descent(\n",
      "/home/vscode/.local/lib/python3.11/site-packages/sklearn/linear_model/_coordinate_descent.py:678: ConvergenceWarning: Objective did not converge. You might want to increase the number of iterations, check the scale of the features or consider increasing regularisation. Duality gap: 2.600e+10, tolerance: 7.552e+07\n",
      "  model = cd_fast.enet_coordinate_descent(\n",
      "/home/vscode/.local/lib/python3.11/site-packages/sklearn/linear_model/_coordinate_descent.py:678: ConvergenceWarning: Objective did not converge. You might want to increase the number of iterations, check the scale of the features or consider increasing regularisation. Duality gap: 2.280e+10, tolerance: 7.552e+07\n",
      "  model = cd_fast.enet_coordinate_descent(\n",
      "/home/vscode/.local/lib/python3.11/site-packages/sklearn/linear_model/_coordinate_descent.py:678: ConvergenceWarning: Objective did not converge. You might want to increase the number of iterations, check the scale of the features or consider increasing regularisation. Duality gap: 9.229e+09, tolerance: 7.552e+07\n",
      "  model = cd_fast.enet_coordinate_descent(\n",
      "/home/vscode/.local/lib/python3.11/site-packages/sklearn/linear_model/_coordinate_descent.py:678: ConvergenceWarning: Objective did not converge. You might want to increase the number of iterations, check the scale of the features or consider increasing regularisation. Duality gap: 5.680e+09, tolerance: 7.552e+07\n",
      "  model = cd_fast.enet_coordinate_descent(\n",
      "/home/vscode/.local/lib/python3.11/site-packages/sklearn/linear_model/_coordinate_descent.py:678: ConvergenceWarning: Objective did not converge. You might want to increase the number of iterations, check the scale of the features or consider increasing regularisation. Duality gap: 1.954e+09, tolerance: 7.552e+07\n",
      "  model = cd_fast.enet_coordinate_descent(\n",
      "/home/vscode/.local/lib/python3.11/site-packages/sklearn/linear_model/_coordinate_descent.py:678: ConvergenceWarning: Objective did not converge. You might want to increase the number of iterations, check the scale of the features or consider increasing regularisation. Duality gap: 1.774e+09, tolerance: 7.552e+07\n",
      "  model = cd_fast.enet_coordinate_descent(\n",
      "/home/vscode/.local/lib/python3.11/site-packages/sklearn/linear_model/_coordinate_descent.py:678: ConvergenceWarning: Objective did not converge. You might want to increase the number of iterations, check the scale of the features or consider increasing regularisation. Duality gap: 5.355e+09, tolerance: 6.766e+07\n",
      "  model = cd_fast.enet_coordinate_descent(\n",
      "/home/vscode/.local/lib/python3.11/site-packages/sklearn/linear_model/_coordinate_descent.py:678: ConvergenceWarning: Objective did not converge. You might want to increase the number of iterations, check the scale of the features or consider increasing regularisation. Duality gap: 1.957e+09, tolerance: 6.766e+07\n",
      "  model = cd_fast.enet_coordinate_descent(\n",
      "/home/vscode/.local/lib/python3.11/site-packages/sklearn/linear_model/_coordinate_descent.py:678: ConvergenceWarning: Objective did not converge. You might want to increase the number of iterations, check the scale of the features or consider increasing regularisation. Duality gap: 6.659e+08, tolerance: 6.766e+07\n",
      "  model = cd_fast.enet_coordinate_descent(\n",
      "/home/vscode/.local/lib/python3.11/site-packages/sklearn/linear_model/_coordinate_descent.py:678: ConvergenceWarning: Objective did not converge. You might want to increase the number of iterations, check the scale of the features or consider increasing regularisation. Duality gap: 2.179e+08, tolerance: 6.766e+07\n",
      "  model = cd_fast.enet_coordinate_descent(\n",
      "/home/vscode/.local/lib/python3.11/site-packages/sklearn/linear_model/_coordinate_descent.py:678: ConvergenceWarning: Objective did not converge. You might want to increase the number of iterations, check the scale of the features or consider increasing regularisation. Duality gap: 1.014e+08, tolerance: 6.766e+07\n",
      "  model = cd_fast.enet_coordinate_descent(\n",
      "/home/vscode/.local/lib/python3.11/site-packages/sklearn/linear_model/_coordinate_descent.py:678: ConvergenceWarning: Objective did not converge. You might want to increase the number of iterations, check the scale of the features or consider increasing regularisation. Duality gap: 2.999e+10, tolerance: 7.552e+07\n",
      "  model = cd_fast.enet_coordinate_descent(\n",
      "/home/vscode/.local/lib/python3.11/site-packages/sklearn/linear_model/_coordinate_descent.py:678: ConvergenceWarning: Objective did not converge. You might want to increase the number of iterations, check the scale of the features or consider increasing regularisation. Duality gap: 2.588e+10, tolerance: 7.552e+07\n",
      "  model = cd_fast.enet_coordinate_descent(\n",
      "/home/vscode/.local/lib/python3.11/site-packages/sklearn/linear_model/_coordinate_descent.py:678: ConvergenceWarning: Objective did not converge. You might want to increase the number of iterations, check the scale of the features or consider increasing regularisation. Duality gap: 2.159e+10, tolerance: 7.552e+07\n",
      "  model = cd_fast.enet_coordinate_descent(\n",
      "/home/vscode/.local/lib/python3.11/site-packages/sklearn/linear_model/_coordinate_descent.py:678: ConvergenceWarning: Objective did not converge. You might want to increase the number of iterations, check the scale of the features or consider increasing regularisation. Duality gap: 5.979e+09, tolerance: 7.552e+07\n",
      "  model = cd_fast.enet_coordinate_descent(\n",
      "/home/vscode/.local/lib/python3.11/site-packages/sklearn/linear_model/_coordinate_descent.py:678: ConvergenceWarning: Objective did not converge. You might want to increase the number of iterations, check the scale of the features or consider increasing regularisation. Duality gap: 3.106e+09, tolerance: 7.552e+07\n",
      "  model = cd_fast.enet_coordinate_descent(\n",
      "/home/vscode/.local/lib/python3.11/site-packages/sklearn/linear_model/_coordinate_descent.py:678: ConvergenceWarning: Objective did not converge. You might want to increase the number of iterations, check the scale of the features or consider increasing regularisation. Duality gap: 8.330e+08, tolerance: 7.552e+07\n",
      "  model = cd_fast.enet_coordinate_descent(\n",
      "/home/vscode/.local/lib/python3.11/site-packages/sklearn/linear_model/_coordinate_descent.py:678: ConvergenceWarning: Objective did not converge. You might want to increase the number of iterations, check the scale of the features or consider increasing regularisation. Duality gap: 7.994e+08, tolerance: 7.552e+07\n",
      "  model = cd_fast.enet_coordinate_descent(\n",
      "/home/vscode/.local/lib/python3.11/site-packages/sklearn/linear_model/_coordinate_descent.py:678: ConvergenceWarning: Objective did not converge. You might want to increase the number of iterations, check the scale of the features or consider increasing regularisation. Duality gap: 5.360e+09, tolerance: 6.766e+07\n",
      "  model = cd_fast.enet_coordinate_descent(\n",
      "/home/vscode/.local/lib/python3.11/site-packages/sklearn/linear_model/_coordinate_descent.py:678: ConvergenceWarning: Objective did not converge. You might want to increase the number of iterations, check the scale of the features or consider increasing regularisation. Duality gap: 1.962e+09, tolerance: 6.766e+07\n",
      "  model = cd_fast.enet_coordinate_descent(\n",
      "/home/vscode/.local/lib/python3.11/site-packages/sklearn/linear_model/_coordinate_descent.py:678: ConvergenceWarning: Objective did not converge. You might want to increase the number of iterations, check the scale of the features or consider increasing regularisation. Duality gap: 6.493e+08, tolerance: 6.766e+07\n",
      "  model = cd_fast.enet_coordinate_descent(\n",
      "/home/vscode/.local/lib/python3.11/site-packages/sklearn/linear_model/_coordinate_descent.py:678: ConvergenceWarning: Objective did not converge. You might want to increase the number of iterations, check the scale of the features or consider increasing regularisation. Duality gap: 1.236e+08, tolerance: 6.766e+07\n",
      "  model = cd_fast.enet_coordinate_descent(\n",
      "/home/vscode/.local/lib/python3.11/site-packages/sklearn/linear_model/_coordinate_descent.py:678: ConvergenceWarning: Objective did not converge. You might want to increase the number of iterations, check the scale of the features or consider increasing regularisation. Duality gap: 2.995e+10, tolerance: 7.552e+07\n",
      "  model = cd_fast.enet_coordinate_descent(\n",
      "/home/vscode/.local/lib/python3.11/site-packages/sklearn/linear_model/_coordinate_descent.py:678: ConvergenceWarning: Objective did not converge. You might want to increase the number of iterations, check the scale of the features or consider increasing regularisation. Duality gap: 2.580e+10, tolerance: 7.552e+07\n",
      "  model = cd_fast.enet_coordinate_descent(\n",
      "/home/vscode/.local/lib/python3.11/site-packages/sklearn/linear_model/_coordinate_descent.py:678: ConvergenceWarning: Objective did not converge. You might want to increase the number of iterations, check the scale of the features or consider increasing regularisation. Duality gap: 2.079e+10, tolerance: 7.552e+07\n",
      "  model = cd_fast.enet_coordinate_descent(\n",
      "/home/vscode/.local/lib/python3.11/site-packages/sklearn/linear_model/_coordinate_descent.py:678: ConvergenceWarning: Objective did not converge. You might want to increase the number of iterations, check the scale of the features or consider increasing regularisation. Duality gap: 4.689e+09, tolerance: 7.552e+07\n",
      "  model = cd_fast.enet_coordinate_descent(\n",
      "/home/vscode/.local/lib/python3.11/site-packages/sklearn/linear_model/_coordinate_descent.py:678: ConvergenceWarning: Objective did not converge. You might want to increase the number of iterations, check the scale of the features or consider increasing regularisation. Duality gap: 2.206e+09, tolerance: 7.552e+07\n",
      "  model = cd_fast.enet_coordinate_descent(\n",
      "/home/vscode/.local/lib/python3.11/site-packages/sklearn/linear_model/_coordinate_descent.py:678: ConvergenceWarning: Objective did not converge. You might want to increase the number of iterations, check the scale of the features or consider increasing regularisation. Duality gap: 5.180e+08, tolerance: 7.552e+07\n",
      "  model = cd_fast.enet_coordinate_descent(\n",
      "/home/vscode/.local/lib/python3.11/site-packages/sklearn/linear_model/_coordinate_descent.py:678: ConvergenceWarning: Objective did not converge. You might want to increase the number of iterations, check the scale of the features or consider increasing regularisation. Duality gap: 4.901e+08, tolerance: 7.552e+07\n",
      "  model = cd_fast.enet_coordinate_descent(\n",
      "/home/vscode/.local/lib/python3.11/site-packages/sklearn/linear_model/_coordinate_descent.py:678: ConvergenceWarning: Objective did not converge. You might want to increase the number of iterations, check the scale of the features or consider increasing regularisation. Duality gap: 5.361e+09, tolerance: 6.766e+07\n",
      "  model = cd_fast.enet_coordinate_descent(\n",
      "/home/vscode/.local/lib/python3.11/site-packages/sklearn/linear_model/_coordinate_descent.py:678: ConvergenceWarning: Objective did not converge. You might want to increase the number of iterations, check the scale of the features or consider increasing regularisation. Duality gap: 1.964e+09, tolerance: 6.766e+07\n",
      "  model = cd_fast.enet_coordinate_descent(\n",
      "/home/vscode/.local/lib/python3.11/site-packages/sklearn/linear_model/_coordinate_descent.py:678: ConvergenceWarning: Objective did not converge. You might want to increase the number of iterations, check the scale of the features or consider increasing regularisation. Duality gap: 6.433e+08, tolerance: 6.766e+07\n",
      "  model = cd_fast.enet_coordinate_descent(\n",
      "/home/vscode/.local/lib/python3.11/site-packages/sklearn/linear_model/_coordinate_descent.py:678: ConvergenceWarning: Objective did not converge. You might want to increase the number of iterations, check the scale of the features or consider increasing regularisation. Duality gap: 9.525e+07, tolerance: 6.766e+07\n",
      "  model = cd_fast.enet_coordinate_descent(\n",
      "/home/vscode/.local/lib/python3.11/site-packages/sklearn/linear_model/_coordinate_descent.py:678: ConvergenceWarning: Objective did not converge. You might want to increase the number of iterations, check the scale of the features or consider increasing regularisation. Duality gap: 2.994e+10, tolerance: 7.552e+07\n",
      "  model = cd_fast.enet_coordinate_descent(\n",
      "/home/vscode/.local/lib/python3.11/site-packages/sklearn/linear_model/_coordinate_descent.py:678: ConvergenceWarning: Objective did not converge. You might want to increase the number of iterations, check the scale of the features or consider increasing regularisation. Duality gap: 2.578e+10, tolerance: 7.552e+07\n",
      "  model = cd_fast.enet_coordinate_descent(\n",
      "/home/vscode/.local/lib/python3.11/site-packages/sklearn/linear_model/_coordinate_descent.py:678: ConvergenceWarning: Objective did not converge. You might want to increase the number of iterations, check the scale of the features or consider increasing regularisation. Duality gap: 2.051e+10, tolerance: 7.552e+07\n",
      "  model = cd_fast.enet_coordinate_descent(\n",
      "/home/vscode/.local/lib/python3.11/site-packages/sklearn/linear_model/_coordinate_descent.py:678: ConvergenceWarning: Objective did not converge. You might want to increase the number of iterations, check the scale of the features or consider increasing regularisation. Duality gap: 4.328e+09, tolerance: 7.552e+07\n",
      "  model = cd_fast.enet_coordinate_descent(\n",
      "/home/vscode/.local/lib/python3.11/site-packages/sklearn/linear_model/_coordinate_descent.py:678: ConvergenceWarning: Objective did not converge. You might want to increase the number of iterations, check the scale of the features or consider increasing regularisation. Duality gap: 1.955e+09, tolerance: 7.552e+07\n",
      "  model = cd_fast.enet_coordinate_descent(\n",
      "/home/vscode/.local/lib/python3.11/site-packages/sklearn/linear_model/_coordinate_descent.py:678: ConvergenceWarning: Objective did not converge. You might want to increase the number of iterations, check the scale of the features or consider increasing regularisation. Duality gap: 4.422e+08, tolerance: 7.552e+07\n",
      "  model = cd_fast.enet_coordinate_descent(\n",
      "/home/vscode/.local/lib/python3.11/site-packages/sklearn/linear_model/_coordinate_descent.py:678: ConvergenceWarning: Objective did not converge. You might want to increase the number of iterations, check the scale of the features or consider increasing regularisation. Duality gap: 4.124e+08, tolerance: 7.552e+07\n",
      "  model = cd_fast.enet_coordinate_descent(\n"
     ]
    },
    {
     "data": {
      "text/plain": [
       "{'alpha': 0.5, 'fit_intercept': True, 'max_iter': 4000, 'random_state': 24}"
      ]
     },
     "execution_count": 20,
     "metadata": {},
     "output_type": "execute_result"
    }
   ],
   "source": [
    "coef = []\n",
    "for combination in ParameterGrid(hyperparams):\n",
    "    model = Lasso(**combination)\n",
    "    model.fit(X_train, y_train)\n",
    "    y_pred = model.predict(X_train)\n",
    "    coef.append(r2_score(y_train, y_pred))\n",
    "\n",
    "best_coef = max(coef)\n",
    "best_combination = list(ParameterGrid(hyperparams))[coef.index(best_coef)]\n",
    "best_model = Lasso(**best_combination)\n",
    "best_model.fit(X_train, y_train)\n",
    "\n",
    "# Save model\n",
    "dump(best_model, open(\"/workspaces/proyectregresionlineal/models/lasso_best_model.pk\", \"wb\"))\n",
    "\n",
    "best_combination"
   ]
  },
  {
   "cell_type": "code",
   "execution_count": 21,
   "metadata": {},
   "outputs": [],
   "source": [
    "y_pred = best_model.predict(X_train)"
   ]
  },
  {
   "cell_type": "code",
   "execution_count": 22,
   "metadata": {},
   "outputs": [
    {
     "name": "stdout",
     "output_type": "stream",
     "text": [
      "Error cuadrático medio: 785.4780623030247\n",
      "Coeficiente de determinación: 0.9979956835418271\n"
     ]
    }
   ],
   "source": [
    "print(f\"Error cuadrático medio: {math.sqrt(mean_squared_error(y_train, y_pred))}\")\n",
    "print(f\"Coeficiente de determinación: {r2_score(y_train, y_pred)}\")"
   ]
  },
  {
   "cell_type": "code",
   "execution_count": 23,
   "metadata": {},
   "outputs": [],
   "source": [
    "y_pred = best_model.predict(X_test)"
   ]
  },
  {
   "cell_type": "code",
   "execution_count": 24,
   "metadata": {},
   "outputs": [
    {
     "name": "stdout",
     "output_type": "stream",
     "text": [
      "Error cuadrático medio: 512.7484260002843\n",
      "Coeficiente de determinación: 0.9971772601799254\n"
     ]
    }
   ],
   "source": [
    "print(f\"Error cuadrático medio: {math.sqrt(mean_squared_error(y_test, y_pred))}\")\n",
    "print(f\"Coeficiente de determinación: {r2_score(y_test, y_pred)}\")"
   ]
  },
  {
   "cell_type": "markdown",
   "metadata": {},
   "source": [
    "MODELO RIDGE"
   ]
  },
  {
   "cell_type": "code",
   "execution_count": 25,
   "metadata": {},
   "outputs": [],
   "source": [
    "ridge_model = Ridge()\n",
    "\n",
    "ridge_model.fit(X_train, y_train)\n",
    "\n",
    "dump(ridge_model, open(\"/workspaces/proyectregresionlineal/models/ridge_model.pk\", \"wb\"))\n",
    "\n",
    "y_pred = ridge_model.predict(X_train)"
   ]
  },
  {
   "cell_type": "code",
   "execution_count": 26,
   "metadata": {},
   "outputs": [
    {
     "name": "stdout",
     "output_type": "stream",
     "text": [
      "Error cuadrático medio: 785.6140244883828\n",
      "Coeficiente de determinación: 0.9979949896081731\n"
     ]
    }
   ],
   "source": [
    "print(f\"Error cuadrático medio: {math.sqrt(mean_squared_error(y_train, y_pred))}\")\n",
    "print(f\"Coeficiente de determinación: {r2_score(y_train, y_pred)}\")"
   ]
  },
  {
   "cell_type": "code",
   "execution_count": 28,
   "metadata": {},
   "outputs": [],
   "source": [
    "y_pred = ridge_model.predict(X_test)"
   ]
  },
  {
   "cell_type": "code",
   "execution_count": 29,
   "metadata": {},
   "outputs": [
    {
     "name": "stdout",
     "output_type": "stream",
     "text": [
      "Error cuadrático medio: 512.5318982822363\n",
      "Coeficiente de determinación: 0.9971796436971797\n"
     ]
    }
   ],
   "source": [
    "print(f\"Error cuadrático medio: {math.sqrt(mean_squared_error(y_test, y_pred))}\")\n",
    "print(f\"Coeficiente de determinación: {r2_score(y_test, y_pred)}\")"
   ]
  },
  {
   "cell_type": "code",
   "execution_count": 30,
   "metadata": {},
   "outputs": [],
   "source": [
    "# # Busqueda del mejor Modelo Ridge\n",
    "\n",
    "hyperparams = {\"alpha\": [0.5, 1, 1.5, 1.8, 1.9],\n",
    "\"fit_intercept\": [True, False],\n",
    "\"random_state\": [24],\n",
    "\"max_iter\": [10, 100, 600, 1000, 1200, 1500, 2000, 4000]}"
   ]
  },
  {
   "cell_type": "code",
   "execution_count": 31,
   "metadata": {},
   "outputs": [
    {
     "data": {
      "text/plain": [
       "{'alpha': 0.5, 'fit_intercept': True, 'max_iter': 10, 'random_state': 24}"
      ]
     },
     "execution_count": 31,
     "metadata": {},
     "output_type": "execute_result"
    }
   ],
   "source": [
    "coef = []\n",
    "for combination in ParameterGrid(hyperparams):\n",
    "    model = Ridge(**combination)\n",
    "    model.fit(X_train, y_train)\n",
    "    y_pred = model.predict(X_train)\n",
    "    coef.append(r2_score(y_train, y_pred))\n",
    "\n",
    "best_coef = max(coef)\n",
    "best_combination = list(ParameterGrid(hyperparams))[coef.index(best_coef)]\n",
    "best_model = Ridge(**best_combination)\n",
    "best_model.fit(X_train, y_train)\n",
    "\n",
    "dump(best_model, open(\"/workspaces/proyectregresionlineal/models/ridge_best_model.pk\", \"wb\"))\n",
    "\n",
    "best_combination"
   ]
  },
  {
   "cell_type": "code",
   "execution_count": 32,
   "metadata": {},
   "outputs": [],
   "source": [
    "y_pred = best_model.predict(X_train)"
   ]
  },
  {
   "cell_type": "code",
   "execution_count": 33,
   "metadata": {},
   "outputs": [
    {
     "name": "stdout",
     "output_type": "stream",
     "text": [
      "Error cuadrático medio: 785.2139184079315\n",
      "Coeficiente de determinación: 0.997997031355248\n"
     ]
    }
   ],
   "source": [
    "print(f\"Error cuadrático medio: {math.sqrt(mean_squared_error(y_train, y_pred))}\")\n",
    "print(f\"Coeficiente de determinación: {r2_score(y_train, y_pred)}\")"
   ]
  },
  {
   "cell_type": "code",
   "execution_count": 37,
   "metadata": {},
   "outputs": [],
   "source": [
    "y_pred = best_model.predict(X_test)"
   ]
  },
  {
   "cell_type": "code",
   "execution_count": 39,
   "metadata": {},
   "outputs": [
    {
     "name": "stdout",
     "output_type": "stream",
     "text": [
      "Error cuadrático medio: 512.5880541860885\n",
      "Coeficiente de determinación: 0.9971790256348332\n"
     ]
    }
   ],
   "source": [
    "print(f\"Error cuadrático medio: {math.sqrt(mean_squared_error(y_test, y_pred))}\")\n",
    "print(f\"Coeficiente de determinación: {r2_score(y_test, y_pred)}\")"
   ]
  }
 ],
 "metadata": {
  "kernelspec": {
   "display_name": "Python 3",
   "language": "python",
   "name": "python3"
  },
  "language_info": {
   "codemirror_mode": {
    "name": "ipython",
    "version": 3
   },
   "file_extension": ".py",
   "mimetype": "text/x-python",
   "name": "python",
   "nbconvert_exporter": "python",
   "pygments_lexer": "ipython3",
   "version": "3.11.4"
  }
 },
 "nbformat": 4,
 "nbformat_minor": 2
}
